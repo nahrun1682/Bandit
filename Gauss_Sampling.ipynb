{
 "cells": [
  {
   "cell_type": "code",
   "execution_count": 1,
   "metadata": {},
   "outputs": [],
   "source": [
    "import numpy as np\n",
    "import matplotlib.pyplot as plt \n",
    "import random\n",
    "import tqdm\n",
    "import pandas as pd "
   ]
  },
  {
   "cell_type": "code",
   "execution_count": 2,
   "metadata": {},
   "outputs": [],
   "source": [
    "class GaussArm():\n",
    "  def __init__(self, mu, sigma):\n",
    "    self.mu = mu\n",
    "    self.sigma = sigma\n",
    "  \n",
    "  def draw(self):\n",
    "    return random.gauss(self.mu, self.sigma)"
   ]
  },
  {
   "cell_type": "code",
   "execution_count": 18,
   "metadata": {},
   "outputs": [],
   "source": [
    "# alpha -1/2, 0, 1/2\n",
    "from scipy import stats\n",
    "import numpy as np \n",
    "class GaussSampling():\n",
    "    def __init__(self, counts, values, double_rewards, alpha):\n",
    "        self.counts = counts\n",
    "        self.values = values\n",
    "        self.double_rewards = double_rewards\n",
    "        self.alpha = alpha\n",
    "    \n",
    "    def initialize(self, n_arms):\n",
    "        self.counts = np.zeros(n_arms)\n",
    "        self.values = np.zeros(n_arms)\n",
    "        self.double_rewards = np.zeros(n_arms)\n",
    "        \n",
    "    def select_arm(self):\n",
    "        theta = [(arm, \n",
    "                  np.random.standard_t(self.counts[arm] + 2*self.alpha - 1)\n",
    "                 * np.sqrt((self.double_rewards[arm]- self.counts[arm]*(self.values[arm]**2))/\n",
    "                              (self.counts[arm]*(self.counts[arm] + 2*self.alpha -1)))\n",
    "                 + self.values[arm]) \n",
    "                 for arm in range(n_arms)]\n",
    "        theta = sorted(theta, key=lambda x :x[1])\n",
    "        return theta[-1][0]\n",
    "    \n",
    "    def update(self, chosen_arm, reward):\n",
    "        #引かれた回数を更新\n",
    "        self.counts[chosen_arm] = self.counts[chosen_arm] + 1\n",
    "        #報酬の平均値を更新\n",
    "        n = self.counts[chosen_arm]\n",
    "        value = self.values[chosen_arm]\n",
    "        new_value = (n-1)/float(n) * value + (1/float(n)) * reward\n",
    "        self.values[chosen_arm] = new_value\n",
    "        #報酬の二乗和を更新\n",
    "        self.double_rewards[chosen_arm] += reward **2"
   ]
  },
  {
   "cell_type": "code",
   "execution_count": 20,
   "metadata": {},
   "outputs": [],
   "source": [
    "def test_algorithm(algo, n_arms, num_sims, horizon):\n",
    "    chosen_arms = np.zeros(num_sims * horizon)\n",
    "    rewards_history = np.zeros(num_sims * horizon)\n",
    "    regret_history = np.zeros(num_sims * horizon)\n",
    "    #cumulative_rewards = np.zeros(num_sims * horizon)\n",
    "    times = np.zeros(num_sims * horizon)\n",
    "    for sim in (range(num_sims)):\n",
    "        algo.initialize(n_arms)\n",
    "        for n in range(int(max(2, 3-2*alpha))):\n",
    "            for chosen_arm in range(n_arms):\n",
    "                reward = gauss_arms[chosen_arm].draw()\n",
    "                algo.update(chosen_arm, reward)\n",
    "            \n",
    "        for t in range(horizon):\n",
    "                index = sim * horizon + t\n",
    "                times[index] = t + 1\n",
    "                #アームを決定\n",
    "                chosen_arm = algo.select_arm()\n",
    "                chosen_arms[index] = chosen_arm\n",
    "                #アームを引く　rewardを処理\n",
    "                reward = gauss_arms[chosen_arm].draw()\n",
    "                rewards_history[index] = reward\n",
    "                #regretの計算\n",
    "                if chosen_arm == 0:\n",
    "                    regret = 0 \n",
    "                    regret_history[index] = regret\n",
    "                else:\n",
    "                    regret = gauss_arms[0].draw()-reward\n",
    "                    regret_history[index] = regret\n",
    "                    \n",
    "                algo.update(chosen_arm, reward)\n",
    "    return [times, chosen_arms, rewards_history, regret_history]"
   ]
  },
  {
   "cell_type": "code",
   "execution_count": 27,
   "metadata": {},
   "outputs": [],
   "source": [
    "#初期値\n",
    "random.seed(2017)\n",
    "sim_num = 1000\n",
    "time = 10000 \n",
    "alpha_list = [-1/2, 0, 1/2]\n",
    "n_arms = 2\n",
    "gauss_mean = [1.0, 0.0]\n",
    "gauss_sigma = [3.0, 0.3]\n",
    "#アームを作成\n",
    "gauss_arms = pd.Series(map(lambda x,y: GaussArm(x,y), gauss_mean, gauss_sigma))"
   ]
  },
  {
   "cell_type": "code",
   "execution_count": 28,
   "metadata": {},
   "outputs": [
    {
     "data": {
      "image/png": "[encoded data removed]",
      "text/plain": [
       "<Figure size 864x360 with 1 Axes>"
      ]
     },
     "metadata": {
      "needs_background": "light"
     },
     "output_type": "display_data"
    }
   ],
   "source": [
    "#計算開始\n",
    "fig = plt.figure(figsize=(12,5))\n",
    "ax = fig.add_subplot(111)\n",
    "\n",
    "for alpha in alpha_list:\n",
    "    gauss_sampling = GaussSampling([], [], [], alpha) #algorithm(alpha)を作成\n",
    "    gauss_sampling.initialize(n_arms)\n",
    "    result = test_algorithm(gauss_sampling, n_arms, sim_num, time)\n",
    "    df_result = pd.DataFrame({'times':result[0], \n",
    "                              \"chosen_arms\":result[1],\n",
    "                              \"rewards_history\":result[2],\n",
    "                              'regret_history':result[3]})\n",
    "    regret_grouped = df_result['regret_history'].groupby(df_result['times'])\n",
    "    df_regret = np.cumsum(regret_grouped.mean())\n",
    "    ax.set_xscale('log')\n",
    "    ax.plot(df_regret, label=alpha)\n",
    "\n",
    "plt.legend()\n",
    "plt.show()\n",
    "    \n"
   ]
  },
  {
   "cell_type": "code",
   "execution_count": 15,
   "metadata": {},
   "outputs": [],
   "source": [
    "test = [1,2,3]\n",
    "test[1] += 100 "
   ]
  },
  {
   "cell_type": "code",
   "execution_count": 16,
   "metadata": {},
   "outputs": [
    {
     "data": {
      "text/plain": [
       "[1, 102, 3]"
      ]
     },
     "execution_count": 16,
     "metadata": {},
     "output_type": "execute_result"
    }
   ],
   "source": [
    "test"
   ]
  },
  {
   "cell_type": "code",
   "execution_count": null,
   "metadata": {},
   "outputs": [],
   "source": []
  }
 ],
 "metadata": {
  "kernelspec": {
   "display_name": "Python 3",
   "language": "python",
   "name": "python3"
  },
  "language_info": {
   "codemirror_mode": {
    "name": "ipython",
    "version": 3
   },
   "file_extension": ".py",
   "mimetype": "text/x-python",
   "name": "python",
   "nbconvert_exporter": "python",
   "pygments_lexer": "ipython3",
   "version": "3.6.8"
  }
 },
 "nbformat": 4,
 "nbformat_minor": 2
}
